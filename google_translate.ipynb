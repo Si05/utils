{
 "cells": [
  {
   "cell_type": "code",
   "execution_count": 2,
   "metadata": {},
   "outputs": [],
   "source": [
    "import pandas as pd\n",
    "import numpy as np"
   ]
  },
  {
   "cell_type": "code",
   "execution_count": 20,
   "metadata": {},
   "outputs": [
    {
     "data": {
      "text/html": [
       "<div>\n",
       "<style scoped>\n",
       "    .dataframe tbody tr th:only-of-type {\n",
       "        vertical-align: middle;\n",
       "    }\n",
       "\n",
       "    .dataframe tbody tr th {\n",
       "        vertical-align: top;\n",
       "    }\n",
       "\n",
       "    .dataframe thead th {\n",
       "        text-align: right;\n",
       "    }\n",
       "</style>\n",
       "<table border=\"1\" class=\"dataframe\">\n",
       "  <thead>\n",
       "    <tr style=\"text-align: right;\">\n",
       "      <th></th>\n",
       "      <th>text</th>\n",
       "    </tr>\n",
       "  </thead>\n",
       "  <tbody>\n",
       "    <tr>\n",
       "      <th>0</th>\n",
       "      <td>下载失败</td>\n",
       "    </tr>\n",
       "    <tr>\n",
       "      <th>1</th>\n",
       "      <td>添加的表情</td>\n",
       "    </tr>\n",
       "  </tbody>\n",
       "</table>\n",
       "</div>"
      ],
      "text/plain": [
       "    text\n",
       "0   下载失败\n",
       "1  添加的表情"
      ]
     },
     "execution_count": 20,
     "metadata": {},
     "output_type": "execute_result"
    }
   ],
   "source": [
    "df = pd.DataFrame(['下载失败', '添加的表情']).rename(columns = {0: 'text'})\n",
    "df"
   ]
  },
  {
   "cell_type": "code",
   "execution_count": 3,
   "metadata": {},
   "outputs": [
    {
     "data": {
      "text/html": [
       "<div>\n",
       "<style scoped>\n",
       "    .dataframe tbody tr th:only-of-type {\n",
       "        vertical-align: middle;\n",
       "    }\n",
       "\n",
       "    .dataframe tbody tr th {\n",
       "        vertical-align: top;\n",
       "    }\n",
       "\n",
       "    .dataframe thead th {\n",
       "        text-align: right;\n",
       "    }\n",
       "</style>\n",
       "<table border=\"1\" class=\"dataframe\">\n",
       "  <thead>\n",
       "    <tr style=\"text-align: right;\">\n",
       "      <th></th>\n",
       "      <th>中文（Android）</th>\n",
       "      <th>英语</th>\n",
       "    </tr>\n",
       "  </thead>\n",
       "  <tbody>\n",
       "    <tr>\n",
       "      <th>0</th>\n",
       "      <td>张</td>\n",
       "      <td>NaN</td>\n",
       "    </tr>\n",
       "    <tr>\n",
       "      <th>1</th>\n",
       "      <td>新增快捷回复功能，可以在效率设置中关闭</td>\n",
       "      <td>New quick reply function, which can be turned ...</td>\n",
       "    </tr>\n",
       "    <tr>\n",
       "      <th>2</th>\n",
       "      <td>加急和@移动到这里了</td>\n",
       "      <td>Urgent and @ moved here</td>\n",
       "    </tr>\n",
       "    <tr>\n",
       "      <th>3</th>\n",
       "      <td>我是页面名称</td>\n",
       "      <td>Page name</td>\n",
       "    </tr>\n",
       "    <tr>\n",
       "      <th>4</th>\n",
       "      <td>收入统一通知平台后，将不会在 Knock 主列表收到通知，是否确认？</td>\n",
       "      <td>After receiving the unified notification platf...</td>\n",
       "    </tr>\n",
       "  </tbody>\n",
       "</table>\n",
       "</div>"
      ],
      "text/plain": [
       "                          中文（Android）  \\\n",
       "0                                   张   \n",
       "1                 新增快捷回复功能，可以在效率设置中关闭   \n",
       "2                          加急和@移动到这里了   \n",
       "3                              我是页面名称   \n",
       "4  收入统一通知平台后，将不会在 Knock 主列表收到通知，是否确认？   \n",
       "\n",
       "                                                  英语  \n",
       "0                                                NaN  \n",
       "1  New quick reply function, which can be turned ...  \n",
       "2                            Urgent and @ moved here  \n",
       "3                                          Page name  \n",
       "4  After receiving the unified notification platf...  "
      ]
     },
     "execution_count": 3,
     "metadata": {},
     "output_type": "execute_result"
    }
   ],
   "source": [
    "df = pd.read_excel('IOS_text.xlsx', sheet_name = 'Sheet1')\n",
    "df.head()"
   ]
  },
  {
   "cell_type": "code",
   "execution_count": 4,
   "metadata": {},
   "outputs": [
    {
     "data": {
      "text/plain": [
       "Index(['chinese', 'english'], dtype='object')"
      ]
     },
     "execution_count": 4,
     "metadata": {},
     "output_type": "execute_result"
    }
   ],
   "source": [
    "df.columns = ['chinese', 'english']\n",
    "df.columns"
   ]
  },
  {
   "cell_type": "code",
   "execution_count": 5,
   "metadata": {},
   "outputs": [
    {
     "data": {
      "text/html": [
       "<div>\n",
       "<style scoped>\n",
       "    .dataframe tbody tr th:only-of-type {\n",
       "        vertical-align: middle;\n",
       "    }\n",
       "\n",
       "    .dataframe tbody tr th {\n",
       "        vertical-align: top;\n",
       "    }\n",
       "\n",
       "    .dataframe thead th {\n",
       "        text-align: right;\n",
       "    }\n",
       "</style>\n",
       "<table border=\"1\" class=\"dataframe\">\n",
       "  <thead>\n",
       "    <tr style=\"text-align: right;\">\n",
       "      <th></th>\n",
       "      <th>chinese</th>\n",
       "      <th>english</th>\n",
       "    </tr>\n",
       "  </thead>\n",
       "  <tbody>\n",
       "    <tr>\n",
       "      <th>1</th>\n",
       "      <td>新增快捷回复功能，可以在效率设置中关闭</td>\n",
       "      <td>New quick reply function, which can be turned ...</td>\n",
       "    </tr>\n",
       "    <tr>\n",
       "      <th>2</th>\n",
       "      <td>加急和@移动到这里了</td>\n",
       "      <td>Urgent and @ moved here</td>\n",
       "    </tr>\n",
       "    <tr>\n",
       "      <th>3</th>\n",
       "      <td>我是页面名称</td>\n",
       "      <td>Page name</td>\n",
       "    </tr>\n",
       "    <tr>\n",
       "      <th>4</th>\n",
       "      <td>收入统一通知平台后，将不会在 Knock 主列表收到通知，是否确认？</td>\n",
       "      <td>After receiving the unified notification platf...</td>\n",
       "    </tr>\n",
       "    <tr>\n",
       "      <th>5</th>\n",
       "      <td>待办可以设置优先\\n级了 ：）</td>\n",
       "      <td>To-do can be set to priority\\nth level up :)</td>\n",
       "    </tr>\n",
       "  </tbody>\n",
       "</table>\n",
       "</div>"
      ],
      "text/plain": [
       "                              chinese  \\\n",
       "1                 新增快捷回复功能，可以在效率设置中关闭   \n",
       "2                          加急和@移动到这里了   \n",
       "3                              我是页面名称   \n",
       "4  收入统一通知平台后，将不会在 Knock 主列表收到通知，是否确认？   \n",
       "5                     待办可以设置优先\\n级了 ：）   \n",
       "\n",
       "                                             english  \n",
       "1  New quick reply function, which can be turned ...  \n",
       "2                            Urgent and @ moved here  \n",
       "3                                          Page name  \n",
       "4  After receiving the unified notification platf...  \n",
       "5       To-do can be set to priority\\nth level up :)  "
      ]
     },
     "execution_count": 5,
     "metadata": {},
     "output_type": "execute_result"
    }
   ],
   "source": [
    "df = df[1:]\n",
    "df.head()"
   ]
  },
  {
   "cell_type": "code",
   "execution_count": 6,
   "metadata": {},
   "outputs": [],
   "source": [
    "import copy\n",
    "from googletrans import Translator\n",
    "\n",
    "translatedList = []\n",
    "for index, row in df.iterrows():\n",
    "    # REINITIALIZE THE API\n",
    "    translator = Translator()\n",
    "    newrow = copy.deepcopy(row)\n",
    "    try:\n",
    "        # translate the 'text' column\n",
    "        translated = translator.translate(row['chinese'], dest='en')\n",
    "        newrow['translated'] = translated.text\n",
    "    except Exception as e:\n",
    "        print(str(e))\n",
    "        continue\n",
    "    translatedList.append(newrow)"
   ]
  },
  {
   "cell_type": "code",
   "execution_count": 7,
   "metadata": {},
   "outputs": [
    {
     "data": {
      "text/plain": [
       "[chinese                                     新增快捷回复功能，可以在效率设置中关闭\n",
       " english       New quick reply function, which can be turned ...\n",
       " translated    Added quick reply function, which can be turne...\n",
       " Name: 1, dtype: object,\n",
       " chinese                    加急和@移动到这里了\n",
       " english       Urgent and @ moved here\n",
       " translated        rush and @move here\n",
       " Name: 2, dtype: object,\n",
       " chinese                   我是页面名称\n",
       " english                Page name\n",
       " translated    i am the page name\n",
       " Name: 3, dtype: object,\n",
       " chinese                      收入统一通知平台后，将不会在 Knock 主列表收到通知，是否确认？\n",
       " english       After receiving the unified notification platf...\n",
       " translated    After receiving the unified notification platf...\n",
       " Name: 4, dtype: object,\n",
       " chinese                                    待办可以设置优先\\n级了 ：）\n",
       " english       To-do can be set to priority\\nth level up :)\n",
       " translated          To-do can be set as priority\\nlevel :)\n",
       " Name: 5, dtype: object]"
      ]
     },
     "execution_count": 7,
     "metadata": {},
     "output_type": "execute_result"
    }
   ],
   "source": [
    "translatedList[:5]"
   ]
  },
  {
   "cell_type": "code",
   "execution_count": 8,
   "metadata": {},
   "outputs": [],
   "source": [
    "translated_df = pd.DataFrame(translatedList)"
   ]
  },
  {
   "cell_type": "code",
   "execution_count": 9,
   "metadata": {},
   "outputs": [
    {
     "data": {
      "text/html": [
       "<div>\n",
       "<style scoped>\n",
       "    .dataframe tbody tr th:only-of-type {\n",
       "        vertical-align: middle;\n",
       "    }\n",
       "\n",
       "    .dataframe tbody tr th {\n",
       "        vertical-align: top;\n",
       "    }\n",
       "\n",
       "    .dataframe thead th {\n",
       "        text-align: right;\n",
       "    }\n",
       "</style>\n",
       "<table border=\"1\" class=\"dataframe\">\n",
       "  <thead>\n",
       "    <tr style=\"text-align: right;\">\n",
       "      <th></th>\n",
       "      <th>chinese</th>\n",
       "      <th>translated</th>\n",
       "    </tr>\n",
       "  </thead>\n",
       "  <tbody>\n",
       "    <tr>\n",
       "      <th>1</th>\n",
       "      <td>新增快捷回复功能，可以在效率设置中关闭</td>\n",
       "      <td>Added quick reply function, which can be turne...</td>\n",
       "    </tr>\n",
       "    <tr>\n",
       "      <th>2</th>\n",
       "      <td>加急和@移动到这里了</td>\n",
       "      <td>rush and @move here</td>\n",
       "    </tr>\n",
       "    <tr>\n",
       "      <th>3</th>\n",
       "      <td>我是页面名称</td>\n",
       "      <td>i am the page name</td>\n",
       "    </tr>\n",
       "    <tr>\n",
       "      <th>4</th>\n",
       "      <td>收入统一通知平台后，将不会在 Knock 主列表收到通知，是否确认？</td>\n",
       "      <td>After receiving the unified notification platf...</td>\n",
       "    </tr>\n",
       "    <tr>\n",
       "      <th>5</th>\n",
       "      <td>待办可以设置优先\\n级了 ：）</td>\n",
       "      <td>To-do can be set as priority\\nlevel :)</td>\n",
       "    </tr>\n",
       "  </tbody>\n",
       "</table>\n",
       "</div>"
      ],
      "text/plain": [
       "                              chinese  \\\n",
       "1                 新增快捷回复功能，可以在效率设置中关闭   \n",
       "2                          加急和@移动到这里了   \n",
       "3                              我是页面名称   \n",
       "4  收入统一通知平台后，将不会在 Knock 主列表收到通知，是否确认？   \n",
       "5                     待办可以设置优先\\n级了 ：）   \n",
       "\n",
       "                                          translated  \n",
       "1  Added quick reply function, which can be turne...  \n",
       "2                                rush and @move here  \n",
       "3                                 i am the page name  \n",
       "4  After receiving the unified notification platf...  \n",
       "5             To-do can be set as priority\\nlevel :)  "
      ]
     },
     "execution_count": 9,
     "metadata": {},
     "output_type": "execute_result"
    }
   ],
   "source": [
    "translated_df = translated_df.drop('english', axis = 1)\n",
    "translated_df.head()"
   ]
  },
  {
   "cell_type": "code",
   "execution_count": 11,
   "metadata": {},
   "outputs": [],
   "source": [
    "translated_df.to_excel('IOS_translated.xlsx', index = False)"
   ]
  },
  {
   "cell_type": "code",
   "execution_count": 10,
   "metadata": {},
   "outputs": [
    {
     "data": {
      "text/plain": [
       "(392, 2)"
      ]
     },
     "execution_count": 10,
     "metadata": {},
     "output_type": "execute_result"
    }
   ],
   "source": [
    "df.shape"
   ]
  },
  {
   "cell_type": "code",
   "execution_count": null,
   "metadata": {},
   "outputs": [],
   "source": []
  }
 ],
 "metadata": {
  "kernelspec": {
   "display_name": "Python 3",
   "language": "python",
   "name": "python3"
  },
  "language_info": {
   "codemirror_mode": {
    "name": "ipython",
    "version": 3
   },
   "file_extension": ".py",
   "mimetype": "text/x-python",
   "name": "python",
   "nbconvert_exporter": "python",
   "pygments_lexer": "ipython3",
   "version": "3.8.3"
  }
 },
 "nbformat": 4,
 "nbformat_minor": 4
}
